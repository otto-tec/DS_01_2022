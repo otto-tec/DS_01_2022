{
 "cells": [
  {
   "cell_type": "markdown",
   "id": "b790294f",
   "metadata": {},
   "source": [
    "## QUESTÃO 01\n",
    "Em um concurso público foram contabilizados os números de pessoas inscritas (até a data inicialmente estabelecida para a inscrição) segundo os níveis de escolaridade: fundamental completo, médio completo, superior completo e pós-graduação completa. Segue abaixo a tabela com os valores observados.\n",
    "\n",
    "<pre><h4>Nível de escolaridade             Inscritos<h4/>\n",
    "Fundamental completo\t451\n",
    "Médio completo\t627\n",
    "Superior completo\t292\n",
    "Pós-graduação completa\t95<pre/><br>\n",
    "Com base na tabela acima, crie uma Series com esses valores e calcule:\n",
    "\n",
    "<h3><span style=\"color: gray\">(a) O número total de inscritos\n",
    "\n",
    "(b) Número inscritos que possuem, pelo menos, o superior completo.\n",
    "\n",
    "(c) Suponha que a inscrição foi prorrogada e, com isso, foi obtido um número adicional de inscrições: 68, 93, 22 e 0 inscritos a mais em cada uma das categorias de escolaridade apresentados na tabela acima (na mesma ordem). Assim, crie uma nova Series com esses valores.\n",
    "\n",
    "(d) Utilizando as duas Series que você tem, calcule o número total de inscritos após a prorrogação do período de inscrições.<span/><h3/>"
   ]
  },
  {
   "cell_type": "markdown",
   "id": "d221f224",
   "metadata": {},
   "source": [
    "#### A) O número total de inscritos"
   ]
  },
  {
   "cell_type": "code",
   "execution_count": 1,
   "id": "68a4b065",
   "metadata": {
    "scrolled": true
   },
   "outputs": [
    {
     "name": "stdout",
     "output_type": "stream",
     "text": [
      "Fundamental completo      451\n",
      "Médio completo            627\n",
      "Superior completo         292\n",
      "Pós-graduação completa     95\n",
      "dtype: int64\n",
      "==============================\n",
      "O número total de inscritos é:\n",
      ">>>>>  1465  <<<<<\n"
     ]
    }
   ],
   "source": [
    "# A)\n",
    "import pandas as pd\n",
    "import numpy as np\n",
    "\n",
    "df = pd.Series([451, 627, 292, 95], index = [\"Fundamental completo\",\"Médio completo\", \"Superior completo\",\"Pós-graduação completa\"])\n",
    "print(f'{df}')\n",
    "print('=' * 30)\n",
    "print(f'O número total de inscritos é:\\n>>>>>  {df.sum()}  <<<<<')"
   ]
  },
  {
   "cell_type": "markdown",
   "id": "2f485c19",
   "metadata": {},
   "source": [
    "#### B)  Número inscritos que possuem, pelo menos, o superior completo."
   ]
  },
  {
   "cell_type": "code",
   "execution_count": 2,
   "id": "f4e75c35",
   "metadata": {},
   "outputs": [
    {
     "name": "stdout",
     "output_type": "stream",
     "text": [
      "O número total de inscritos com superior é:\n",
      ">>>>>  387  <<<<<\n"
     ]
    }
   ],
   "source": [
    "# B)\n",
    "df_ = pd.Series([df[2],df[3]])\n",
    "print(f'O número total de inscritos com superior é:\\n>>>>>  {df_.sum()}  <<<<<')"
   ]
  },
  {
   "cell_type": "markdown",
   "id": "99b0da24",
   "metadata": {},
   "source": [
    "#### C) Suponha que a inscrição foi prorrogada e, com isso, foi obtido um número adicional de inscrições: 68, 93, 22 e 0 inscritos a mais em cada uma das categorias de escolaridade apresentados na tabela acima (na mesma ordem). Assim, crie uma nova Series com esses valores."
   ]
  },
  {
   "cell_type": "code",
   "execution_count": 3,
   "id": "56339b09",
   "metadata": {},
   "outputs": [
    {
     "name": "stdout",
     "output_type": "stream",
     "text": [
      "As inscrições sem a prorrogação é:\n",
      "Fundamental completo      451\n",
      "Médio completo            627\n",
      "Superior completo         292\n",
      "Pós-graduação completa     95\n",
      "dtype: int64\n",
      "========================================\n",
      "As inscrições com a prorrogação é:\n",
      "Fundamental completo      68\n",
      "Médio completo            93\n",
      "Superior completo         22\n",
      "Pós-graduação completa     0\n",
      "dtype: int64\n"
     ]
    }
   ],
   "source": [
    "# C)\n",
    "print(f'As inscrições sem a prorrogação é:\\n{df}')\n",
    "print('=' * 40)\n",
    "df_2 = df.copy()\n",
    "df_2[0] = 68 \n",
    "df_2[1] = 93\n",
    "df_2[2] = 22\n",
    "df_2[3] = 0\n",
    "\n",
    "print(f'As inscrições com a prorrogação é:\\n{df_2}')\n"
   ]
  },
  {
   "cell_type": "markdown",
   "id": "1cf4eb0a",
   "metadata": {},
   "source": [
    "#### D) Utilizando as duas Series que você tem, calcule o número total de inscritos após a prorrogação do período de inscrições."
   ]
  },
  {
   "cell_type": "code",
   "execution_count": 4,
   "id": "76c24a1c",
   "metadata": {},
   "outputs": [
    {
     "name": "stdout",
     "output_type": "stream",
     "text": [
      "A soma final dos inscritos é:\n",
      "   >>>>>   1648   <<<<<\n"
     ]
    }
   ],
   "source": [
    "# D)\n",
    "print(f'A soma final dos inscritos é:\\n   >>>>>   {df.sum() + df_2.sum()}   <<<<<')"
   ]
  },
  {
   "cell_type": "markdown",
   "id": "a89308a0",
   "metadata": {},
   "source": [
    "## QUESTÃO 02\n",
    "Uma turma de cinco alunos foi submetida a uma avaliação e a nota de cada um dos alunos é apresentada na tabela abaixo:\n",
    "\n",
    "<pre><h4> Nome do Aluno\tNota<h4/>\n",
    "          Wilfred         2\n",
    "          Abbie           7\n",
    "          Harry           5.5\n",
    "          Julia            10\n",
    "          Carrie          6.2<pre/><br/>\n",
    "<h3><span style=\"color: gray\">(a) Crie uma Series com os valores da tabela acima.\n",
    "\n",
    "(b) Retorne o número de alunos que foram aprovados (considerando que a nota mínima para a aprovação é 7).\n",
    "\n",
    "(c) Qual foi a nota média da turma.\n",
    "\n",
    "(d) Obtenha o nome dos alunos que tiraram notas acima da média da turma.<span/><h3/>"
   ]
  },
  {
   "cell_type": "markdown",
   "id": "c7849c97",
   "metadata": {},
   "source": [
    "#### A) Crie uma Series com os valores da tabela acima."
   ]
  },
  {
   "cell_type": "code",
   "execution_count": 5,
   "id": "44e9f6e7",
   "metadata": {},
   "outputs": [
    {
     "name": "stdout",
     "output_type": "stream",
     "text": [
      "Wilfred     2.0\n",
      "Abbie       7.0\n",
      "Harry       5.5\n",
      "Julia      10.0\n",
      "Carrie      6.2\n",
      "dtype: float64\n"
     ]
    }
   ],
   "source": [
    "# A)\n",
    "import pandas as pd\n",
    "import numpy as np\n",
    "\n",
    "df_3 = pd.Series([2, 7, 5.5, 10, 6.2], index = [\"Wilfred\", \"Abbie\", \"Harry\", \"Julia\", \"Carrie\"])\n",
    "print(df_3)"
   ]
  },
  {
   "cell_type": "markdown",
   "id": "577ed7cd",
   "metadata": {},
   "source": [
    "#### B) Retorne o número de alunos que foram aprovados (considerando que a nota mínima para a aprovação é 7)."
   ]
  },
  {
   "cell_type": "code",
   "execution_count": 6,
   "id": "61519227",
   "metadata": {},
   "outputs": [
    {
     "name": "stdout",
     "output_type": "stream",
     "text": [
      "A quantidade de alunos aprovados é:\n",
      "      >>>>>  2  <<<<<\n"
     ]
    }
   ],
   "source": [
    "# B)\n",
    "df_4 = df_3.copy()\n",
    "soma = 0\n",
    "for i in df_4:\n",
    "    if i >= 7:\n",
    "        soma += 1\n",
    "\n",
    "print(f'A quantidade de alunos aprovados é:\\n      >>>>>  {soma}  <<<<<')\n"
   ]
  },
  {
   "cell_type": "markdown",
   "id": "a09d12b9",
   "metadata": {},
   "source": [
    "#### C) Qual foi a nota média da turma."
   ]
  },
  {
   "cell_type": "code",
   "execution_count": 7,
   "id": "f776b548",
   "metadata": {},
   "outputs": [
    {
     "name": "stdout",
     "output_type": "stream",
     "text": [
      "A média da turma foi:\n",
      ">>>>>  6.14  <<<<<\n"
     ]
    }
   ],
   "source": [
    "# C)\n",
    "print(f'A média da turma foi:\\n>>>>>  {df_3.mean()}  <<<<<')"
   ]
  },
  {
   "cell_type": "markdown",
   "id": "8e5eff66",
   "metadata": {},
   "source": [
    "#### D) Obtenha o nome dos alunos que tiraram notas acima da média da turma."
   ]
  },
  {
   "cell_type": "code",
   "execution_count": 8,
   "id": "ddce7716",
   "metadata": {},
   "outputs": [
    {
     "name": "stdout",
     "output_type": "stream",
     "text": [
      "Os alunos acima da média são:\n",
      "===> Abbie\n",
      "===> Julia\n"
     ]
    }
   ],
   "source": [
    "# D)\n",
    "print('Os alunos acima da média são:')\n",
    "cont = 0\n",
    "for v in np.ndenumerate(df_3):\n",
    "    if v[1] >= 7:\n",
    "         print(f'===> {df_3.index[cont]}')\n",
    "    cont += 1"
   ]
  },
  {
   "cell_type": "markdown",
   "id": "c064935e",
   "metadata": {},
   "source": [
    "## QUESTÃO 03\n",
    "Crie um objeto DataFrame que contenha os dados da tabela abaixo, os quais se referem ao peso, altura e idade de cinco pessoas:\n",
    "\n",
    "<pre><h4>Peso (kg)\tAltura (cm)\tIdade<h4/>\n",
    "          72\t      180\t      31\n",
    "          80\t      170\t      21\n",
    "          60\t      175\t      16\n",
    "          90\t      174\t      28\n",
    "         100\t     185\t      23<pre/>\n",
    "Com base no DataFrame criado, realize o que pedido nos itens abaixo:\n",
    "\n",
    "<h3><span style=\"color: gray\">(a) Visualize apenas os dados da coluna que contém a altura das pessoas.\n",
    "\n",
    "(b) Obtenha a idade média das pessoas.\n",
    "\n",
    "(c) Obtenha os dados das pessoas que estão abaixo da altura média.\n",
    "\n",
    "(d) Crie um nova coluna no DataFrame que contenha o IMC (Índice de Massa Corporal) de cada pessoa.\n",
    "\n",
    "(e) Remova a coluna que contém a idade das pessoas.\n",
    "\n",
    "(f) Salve esses dados do DataFrame em um arquivo csv.</span><h3/>"
   ]
  },
  {
   "cell_type": "code",
   "execution_count": 9,
   "id": "1ab53c6d",
   "metadata": {},
   "outputs": [
    {
     "data": {
      "text/html": [
       "<div>\n",
       "<style scoped>\n",
       "    .dataframe tbody tr th:only-of-type {\n",
       "        vertical-align: middle;\n",
       "    }\n",
       "\n",
       "    .dataframe tbody tr th {\n",
       "        vertical-align: top;\n",
       "    }\n",
       "\n",
       "    .dataframe thead th {\n",
       "        text-align: right;\n",
       "    }\n",
       "</style>\n",
       "<table border=\"1\" class=\"dataframe\">\n",
       "  <thead>\n",
       "    <tr style=\"text-align: right;\">\n",
       "      <th></th>\n",
       "      <th>Peso (kg)</th>\n",
       "      <th>Altura (cm)</th>\n",
       "      <th>Idade</th>\n",
       "    </tr>\n",
       "  </thead>\n",
       "  <tbody>\n",
       "    <tr>\n",
       "      <th>0</th>\n",
       "      <td>72</td>\n",
       "      <td>180</td>\n",
       "      <td>31</td>\n",
       "    </tr>\n",
       "    <tr>\n",
       "      <th>1</th>\n",
       "      <td>80</td>\n",
       "      <td>170</td>\n",
       "      <td>21</td>\n",
       "    </tr>\n",
       "    <tr>\n",
       "      <th>2</th>\n",
       "      <td>60</td>\n",
       "      <td>175</td>\n",
       "      <td>16</td>\n",
       "    </tr>\n",
       "    <tr>\n",
       "      <th>3</th>\n",
       "      <td>90</td>\n",
       "      <td>174</td>\n",
       "      <td>28</td>\n",
       "    </tr>\n",
       "    <tr>\n",
       "      <th>4</th>\n",
       "      <td>100</td>\n",
       "      <td>185</td>\n",
       "      <td>23</td>\n",
       "    </tr>\n",
       "  </tbody>\n",
       "</table>\n",
       "</div>"
      ],
      "text/plain": [
       "   Peso (kg)  Altura (cm)  Idade\n",
       "0         72          180     31\n",
       "1         80          170     21\n",
       "2         60          175     16\n",
       "3         90          174     28\n",
       "4        100          185     23"
      ]
     },
     "execution_count": 9,
     "metadata": {},
     "output_type": "execute_result"
    }
   ],
   "source": [
    "# Criando o DataFrame\n",
    "import pandas as pd\n",
    "import numpy as np\n",
    "lst1 = [72, 80, 60, 90, 100]\n",
    "lst2 = [180, 170, 175, 174, 185]\n",
    "lst3 = [31, 21, 16, 28, 23]\n",
    "                                                    \n",
    "                         \n",
    "df_03 = pd.DataFrame(list(zip(lst1,lst2, lst3)), columns = [\"Peso (kg)\", \"Altura (cm)\", \"Idade\"])\n",
    "df_03"
   ]
  },
  {
   "cell_type": "markdown",
   "id": "cd5b35fd",
   "metadata": {},
   "source": [
    "#### A) Visualize apenas os dados da coluna que contém a altura das pessoas."
   ]
  },
  {
   "cell_type": "code",
   "execution_count": 10,
   "id": "d4344421",
   "metadata": {},
   "outputs": [
    {
     "name": "stdout",
     "output_type": "stream",
     "text": [
      "0    180\n",
      "1    170\n",
      "2    175\n",
      "3    174\n",
      "4    185\n",
      "Name: Altura (cm), dtype: int64\n"
     ]
    }
   ],
   "source": [
    "# A)\n",
    "print(f'{df_03[\"Altura (cm)\"]}')"
   ]
  },
  {
   "cell_type": "markdown",
   "id": "0827d26e",
   "metadata": {},
   "source": [
    "#### B) Obtenha a idade média das pessoas."
   ]
  },
  {
   "cell_type": "code",
   "execution_count": 11,
   "id": "5eeec05c",
   "metadata": {},
   "outputs": [
    {
     "data": {
      "text/plain": [
       "23.8"
      ]
     },
     "metadata": {},
     "output_type": "display_data"
    }
   ],
   "source": [
    "# B)\n",
    "display(df_03[\"Idade\"].mean())"
   ]
  },
  {
   "cell_type": "markdown",
   "id": "ffd122b0",
   "metadata": {},
   "source": [
    "#### C) Obtenha os dados das pessoas que estão abaixo da altura média."
   ]
  },
  {
   "cell_type": "code",
   "execution_count": 12,
   "id": "022dc142",
   "metadata": {},
   "outputs": [
    {
     "data": {
      "text/html": [
       "<div>\n",
       "<style scoped>\n",
       "    .dataframe tbody tr th:only-of-type {\n",
       "        vertical-align: middle;\n",
       "    }\n",
       "\n",
       "    .dataframe tbody tr th {\n",
       "        vertical-align: top;\n",
       "    }\n",
       "\n",
       "    .dataframe thead th {\n",
       "        text-align: right;\n",
       "    }\n",
       "</style>\n",
       "<table border=\"1\" class=\"dataframe\">\n",
       "  <thead>\n",
       "    <tr style=\"text-align: right;\">\n",
       "      <th></th>\n",
       "      <th>Peso (kg)</th>\n",
       "      <th>Altura (cm)</th>\n",
       "      <th>Idade</th>\n",
       "    </tr>\n",
       "  </thead>\n",
       "  <tbody>\n",
       "    <tr>\n",
       "      <th>1</th>\n",
       "      <td>80</td>\n",
       "      <td>170</td>\n",
       "      <td>21</td>\n",
       "    </tr>\n",
       "    <tr>\n",
       "      <th>2</th>\n",
       "      <td>60</td>\n",
       "      <td>175</td>\n",
       "      <td>16</td>\n",
       "    </tr>\n",
       "    <tr>\n",
       "      <th>3</th>\n",
       "      <td>90</td>\n",
       "      <td>174</td>\n",
       "      <td>28</td>\n",
       "    </tr>\n",
       "  </tbody>\n",
       "</table>\n",
       "</div>"
      ],
      "text/plain": [
       "   Peso (kg)  Altura (cm)  Idade\n",
       "1         80          170     21\n",
       "2         60          175     16\n",
       "3         90          174     28"
      ]
     },
     "metadata": {},
     "output_type": "display_data"
    }
   ],
   "source": [
    "# C) Baseando-se na altura média masculina brasileira de 1,75\n",
    "a = df_03[df_03[\"Altura (cm)\"] <= 175]\n",
    "\n",
    "display(a)\n"
   ]
  },
  {
   "cell_type": "markdown",
   "id": "655193a6",
   "metadata": {},
   "source": [
    "#### D) Crie um nova coluna no DataFrame que contenha o IMC (Índice de Massa Corporal) de cada pessoa."
   ]
  },
  {
   "cell_type": "code",
   "execution_count": 88,
   "id": "fc6217c0",
   "metadata": {},
   "outputs": [
    {
     "data": {
      "text/html": [
       "<div>\n",
       "<style scoped>\n",
       "    .dataframe tbody tr th:only-of-type {\n",
       "        vertical-align: middle;\n",
       "    }\n",
       "\n",
       "    .dataframe tbody tr th {\n",
       "        vertical-align: top;\n",
       "    }\n",
       "\n",
       "    .dataframe thead th {\n",
       "        text-align: right;\n",
       "    }\n",
       "</style>\n",
       "<table border=\"1\" class=\"dataframe\">\n",
       "  <thead>\n",
       "    <tr style=\"text-align: right;\">\n",
       "      <th></th>\n",
       "      <th>Peso (kg)</th>\n",
       "      <th>Altura (cm)</th>\n",
       "      <th>IMC</th>\n",
       "    </tr>\n",
       "  </thead>\n",
       "  <tbody>\n",
       "    <tr>\n",
       "      <th>0</th>\n",
       "      <td>72</td>\n",
       "      <td>180</td>\n",
       "      <td>22.222222</td>\n",
       "    </tr>\n",
       "    <tr>\n",
       "      <th>1</th>\n",
       "      <td>80</td>\n",
       "      <td>170</td>\n",
       "      <td>27.681661</td>\n",
       "    </tr>\n",
       "    <tr>\n",
       "      <th>2</th>\n",
       "      <td>60</td>\n",
       "      <td>175</td>\n",
       "      <td>19.591837</td>\n",
       "    </tr>\n",
       "    <tr>\n",
       "      <th>3</th>\n",
       "      <td>90</td>\n",
       "      <td>174</td>\n",
       "      <td>29.726516</td>\n",
       "    </tr>\n",
       "    <tr>\n",
       "      <th>4</th>\n",
       "      <td>100</td>\n",
       "      <td>185</td>\n",
       "      <td>29.218408</td>\n",
       "    </tr>\n",
       "  </tbody>\n",
       "</table>\n",
       "</div>"
      ],
      "text/plain": [
       "   Peso (kg)  Altura (cm)        IMC\n",
       "0         72          180  22.222222\n",
       "1         80          170  27.681661\n",
       "2         60          175  19.591837\n",
       "3         90          174  29.726516\n",
       "4        100          185  29.218408"
      ]
     },
     "metadata": {},
     "output_type": "display_data"
    }
   ],
   "source": [
    "# D)\n",
    "\n",
    "imc_n = []\n",
    "def imc(peso, altura):\n",
    "    altura_ = altura / 100\n",
    "    r = peso / (altura_**2)\n",
    "    imc_n.append(r)\n",
    "    return imc_n\n",
    "\n",
    "imc_p = []\n",
    "imc_a = []\n",
    "for i in np.ndenumerate(df_03):\n",
    "    if i[0][1] == 0:\n",
    "        imc_p.append(i[1])\n",
    "    if i[0][1] == 1:\n",
    "        imc_a.append(i[1])\n",
    "\n",
    "for i in range(0, 5):\n",
    "    imc(imc_p[i], imc_a[i])\n",
    "\n",
    "df_03['IMC'] = imc_n\n",
    "display(df_03)\n",
    "\n",
    "\n"
   ]
  },
  {
   "cell_type": "markdown",
   "id": "41fe9f6f",
   "metadata": {},
   "source": [
    "#### E) Remova a coluna que contém a idade das pessoas."
   ]
  },
  {
   "cell_type": "code",
   "execution_count": 87,
   "id": "75f340f8",
   "metadata": {},
   "outputs": [
    {
     "data": {
      "text/html": [
       "<div>\n",
       "<style scoped>\n",
       "    .dataframe tbody tr th:only-of-type {\n",
       "        vertical-align: middle;\n",
       "    }\n",
       "\n",
       "    .dataframe tbody tr th {\n",
       "        vertical-align: top;\n",
       "    }\n",
       "\n",
       "    .dataframe thead th {\n",
       "        text-align: right;\n",
       "    }\n",
       "</style>\n",
       "<table border=\"1\" class=\"dataframe\">\n",
       "  <thead>\n",
       "    <tr style=\"text-align: right;\">\n",
       "      <th></th>\n",
       "      <th>Peso (kg)</th>\n",
       "      <th>Altura (cm)</th>\n",
       "      <th>IMC</th>\n",
       "    </tr>\n",
       "  </thead>\n",
       "  <tbody>\n",
       "    <tr>\n",
       "      <th>0</th>\n",
       "      <td>72</td>\n",
       "      <td>180</td>\n",
       "      <td>22.222222</td>\n",
       "    </tr>\n",
       "    <tr>\n",
       "      <th>1</th>\n",
       "      <td>80</td>\n",
       "      <td>170</td>\n",
       "      <td>27.681661</td>\n",
       "    </tr>\n",
       "    <tr>\n",
       "      <th>2</th>\n",
       "      <td>60</td>\n",
       "      <td>175</td>\n",
       "      <td>19.591837</td>\n",
       "    </tr>\n",
       "    <tr>\n",
       "      <th>3</th>\n",
       "      <td>90</td>\n",
       "      <td>174</td>\n",
       "      <td>29.726516</td>\n",
       "    </tr>\n",
       "    <tr>\n",
       "      <th>4</th>\n",
       "      <td>100</td>\n",
       "      <td>185</td>\n",
       "      <td>29.218408</td>\n",
       "    </tr>\n",
       "  </tbody>\n",
       "</table>\n",
       "</div>"
      ],
      "text/plain": [
       "   Peso (kg)  Altura (cm)        IMC\n",
       "0         72          180  22.222222\n",
       "1         80          170  27.681661\n",
       "2         60          175  19.591837\n",
       "3         90          174  29.726516\n",
       "4        100          185  29.218408"
      ]
     },
     "metadata": {},
     "output_type": "display_data"
    }
   ],
   "source": [
    "del df_03[\"Idade\"]\n",
    "display(df_03)"
   ]
  },
  {
   "cell_type": "markdown",
   "id": "86162146",
   "metadata": {},
   "source": [
    "## QUESTÃO 04\n",
    "\n",
    "Carregue, em um objeto DataFrame, o arquivo CSV que você salvou no item (f) da questão anterior. Em seguida,\n",
    "\n",
    "<pre><h3><span style=\"color: gray\">\n",
    "(a) Crie uma nova coluna que contenha o nome das pessoas (sinta-se à vontade para atribuir os nomes que preferir).\n",
    "\n",
    "(b) Defina a nova coluna criada (com os nomes) como o índice (index) do seu DataFrame.\n",
    "\n",
    "(c) Obtenha o nome das pessoas que são classificadas com Sobrepeso (IMC entre 25 e 29,9).</span><h3/><pre/>"
   ]
  },
  {
   "cell_type": "code",
   "execution_count": null,
   "id": "49588309",
   "metadata": {},
   "outputs": [],
   "source": []
  },
  {
   "cell_type": "markdown",
   "id": "cbd9818e",
   "metadata": {},
   "source": [
    "## QUESTÃO 05\n",
    "Carregue, em um objeto DataFrame, o mesmo dataset que você salvou na Questão 3. Em seguida,\n",
    "______\n",
    "<h3><span style=\"color: gray\">(a) Adicione uma nova coluna nesse DF chamada Classificação, que contenha a classificação de cada indivíduo, de acordo com o seu IMC. Para isso, consulte a tabela abaixo.<span/><h3/>\n",
    "\n",
    "<pre>IMC\t                        Classificação\t      Obesidade   (grau)\n",
    "Menor que 18,5\t              Magreza\t              0\n",
    "Entre 18,5 e 24,9\t           Normal\t               0\n",
    "Entre 25,0 e 29,9\t           Sobrepeso\t            I\n",
    "Entre 30,0 e 39,9\t           Obesidade\t            II\n",
    "Maior que 40,0\t              Obesidade Grave\t      III<pre/>\n",
    "\n",
    "<h3><span style=\"color: gray\">(b) Salve em DataFrame no formato xlsx.<span/><h3/>"
   ]
  },
  {
   "cell_type": "code",
   "execution_count": null,
   "id": "e02cebd1",
   "metadata": {},
   "outputs": [],
   "source": []
  }
 ],
 "metadata": {
  "kernelspec": {
   "display_name": "Python 3",
   "language": "python",
   "name": "python3"
  },
  "language_info": {
   "codemirror_mode": {
    "name": "ipython",
    "version": 3
   },
   "file_extension": ".py",
   "mimetype": "text/x-python",
   "name": "python",
   "nbconvert_exporter": "python",
   "pygments_lexer": "ipython3",
   "version": "3.8.8"
  }
 },
 "nbformat": 4,
 "nbformat_minor": 5
}
