{
 "cells": [
  {
   "cell_type": "markdown",
   "id": "950dc4ef",
   "metadata": {},
   "source": [
    "## QUESTÃO 01\n",
    "\n",
    "\n",
    "Printe os elementos dos seguintes dois vetores usando apenas um for:\n",
    "\n",
    "arr = np.array([[[1, 2, 3], [4, 5, 6]], [[7, 8, 9], [10, 11, 12]]])\n",
    "\n",
    "Depois, faça o mesmo usando numpy (usando a função nditer) e deixe um comentário sobre a diferença dos dois métodos.\n",
    "\n",
    "arr = np.array([[[1, 2, 3], [4, 5, 6]], [[7, 8, 9], [10, 11, 12]]])"
   ]
  },
  {
   "cell_type": "code",
   "execution_count": 5,
   "id": "a4408148",
   "metadata": {},
   "outputs": [
    {
     "name": "stdout",
     "output_type": "stream",
     "text": [
      "[[1 2 3]\n",
      " [4 5 6]]\n",
      "[[ 7  8  9]\n",
      " [10 11 12]]\n"
     ]
    }
   ],
   "source": [
    "#A MATRIZ TEM 3 DIMENSÕES. ESTOU TESTANDO COM 1 FOR\n",
    "import numpy as np\n",
    "arr = np.array([[[1, 2, 3], [4, 5, 6]], [[7, 8, 9], [10, 11, 12]]])\n",
    "for x in arr:\n",
    "  print(x)"
   ]
  },
  {
   "cell_type": "code",
   "execution_count": null,
   "id": "c1484381",
   "metadata": {},
   "outputs": [],
   "source": [
    "# TESTANDO COM 2 FOR\n",
    "for x in arr:\n",
    "  for y in x:\n",
    "    print(y)"
   ]
  },
  {
   "cell_type": "code",
   "execution_count": null,
   "id": "a71b3f2e",
   "metadata": {},
   "outputs": [],
   "source": [
    "# TESTANDO COM 3 FOR\n",
    "\n",
    "for x in arr:\n",
    "    for y in x:\n",
    "        for z in y:\n",
    "            print(z) "
   ]
  },
  {
   "cell_type": "code",
   "execution_count": null,
   "id": "b5fe097d",
   "metadata": {},
   "outputs": [],
   "source": [
    "# Usando o a função nditer\n",
    "\n",
    "for i in np.nditer(arr):\n",
    "    print(i)"
   ]
  },
  {
   "cell_type": "markdown",
   "id": "4615c662",
   "metadata": {},
   "source": [
    "#### RESPOSTA FINAL Q 1:"
   ]
  },
  {
   "cell_type": "code",
   "execution_count": null,
   "id": "e009d74e",
   "metadata": {},
   "outputs": [],
   "source": [
    "import numpy as np\n",
    "print('USANDO O FOR SEM FUNÇÕES:')\n",
    "arr = np.array([[[1, 2, 3], [4, 5, 6]], [[7, 8, 9], [10, 11, 12]]])\n",
    "for x in arr:\n",
    "  for y in x:\n",
    "    for z in y:\n",
    "        print(z)\n",
    "print(\"=\" * 30)\n",
    "print('USANDO A FUNÇÃO NDITER:')\n",
    "for i in np.nditer(arr):\n",
    "    print(i)\n"
   ]
  },
  {
   "cell_type": "markdown",
   "id": "927ae43d",
   "metadata": {},
   "source": [
    "## QUESTÃO 02\n",
    "\n",
    "Peça para o usuário uma lista com as comidas favoritas dele, depois transforme isso em um objeto numpy. Agora transformado, elimine todas as comidas que começam com uma vogal. Mostre o resultado.\n",
    "\n",
    "Exemplo:\n",
    "\n",
    "Entrada: [maçã, uva, morango, melancia, acelga]\n",
    "\n",
    "Saída: [maçã, morango, melancia]"
   ]
  },
  {
   "cell_type": "code",
   "execution_count": 2,
   "id": "47f6230d",
   "metadata": {},
   "outputs": [
    {
     "name": "stdout",
     "output_type": "stream",
     "text": [
      "========================================\n",
      "      LISTA DE COMIDAS PREFERIDAS       \n",
      "========================================\n",
      "Insira o nome de uma comida: acerola\n",
      "Deseja continuar?[S/N]: s\n",
      "Insira o nome de uma comida: banana\n",
      "Deseja continuar?[S/N]: s\n",
      "Insira o nome de uma comida: maça\n",
      "Deseja continuar?[S/N]: s\n",
      "Insira o nome de uma comida: uva\n",
      "Deseja continuar?[S/N]: t\n",
      "ERRO. Digite um valor válido\n",
      "Deseja continuar?[S/N]: e\n",
      "ERRO. Digite um valor válido\n",
      "Deseja continuar?[S/N]: n\n",
      "Insira o nome de uma comida: Ameixa\n",
      "Deseja continuar?[S/N]: N\n",
      "**************************************************\n",
      "A lista de todas as comidas é:\n",
      "['acerola', 'banana', 'maça', 'uva', 'Ameixa']\n",
      "==================================================\n",
      "A lista sem as que começam com vogal é:\n",
      "['banana' 'maça']\n",
      "==================================================\n",
      "O tipo na nova lista é:\n",
      "<class 'numpy.ndarray'>\n"
     ]
    }
   ],
   "source": [
    "import numpy as np\n",
    "from time import sleep\n",
    "\n",
    "print('=' * 40)\n",
    "print('LISTA DE COMIDAS PREFERIDAS'.center(40))\n",
    "print('=' * 40)\n",
    "sleep(0.5)\n",
    "\n",
    "a = []\n",
    "b = []\n",
    "c = []\n",
    "while True:\n",
    "    a.append(input('Insira o nome de uma comida: '))\n",
    "    exit = input('Deseja continuar?[S/N]: ').upper().split()[0]\n",
    "    if exit in 'Nn':\n",
    "        break\n",
    "    while True:\n",
    "        if exit not in 'SN':\n",
    "            print('ERRO. Digite um valor válido')\n",
    "            exit = input('Deseja continuar?[S/N]: ').upper().split()[0]\n",
    "        else:\n",
    "            break\n",
    "\n",
    "for i in a:\n",
    "    b = i[:1]\n",
    "    if b not in 'AaEeIiOoUu':\n",
    "        c.append(i)\n",
    "print('*' * 50)\n",
    "d = np.array(c)\n",
    "print(f'A lista de todas as comidas é:\\n{a}')\n",
    "print('=' * 50)\n",
    "print(f'A lista sem as que começam com vogal é:\\n{d}')\n",
    "print('=' * 50)\n",
    "print(f'O tipo na nova lista é:\\n{type(d)}')"
   ]
  },
  {
   "cell_type": "markdown",
   "id": "7b5d78cb",
   "metadata": {},
   "source": [
    "## QUESTÃO 03\n",
    "Imprima a dimensão dos seguintes objetos numpy:\n",
    "\n",
    "a = np.array(2)\n",
    "\n",
    "b = np.array([1, 2, 3, 4, 5])\n",
    "\n",
    "c = np.array([[1, 2, 3], [4, 5, 6]])\n",
    "\n",
    "d = np.array([[[1, 2, 3], [4, 5, 6]], [[7, 8, 9], [10, 11, 12]]])"
   ]
  },
  {
   "cell_type": "code",
   "execution_count": 8,
   "id": "6012c31b",
   "metadata": {},
   "outputs": [
    {
     "name": "stdout",
     "output_type": "stream",
     "text": [
      "O objeto A tem 0 dimensões.\n",
      "O objeto B tem 1 dimensões.\n",
      "O objeto C tem 2 dimensões.\n",
      "O objeto D tem 3 dimensões.\n"
     ]
    }
   ],
   "source": [
    "import numpy as np\n",
    "a = np.array(2)\n",
    "\n",
    "b = np.array([1, 2, 3, 4, 5])\n",
    "\n",
    "c = np.array([[1, 2, 3], [4, 5, 6]])\n",
    "\n",
    "d = np.array([[[1, 2, 3], [4, 5, 6]], [[7, 8, 9], [10, 11, 12]]])\n",
    "\n",
    "print(f'O objeto A tem {a.ndim} dimensões.')\n",
    "print(f'O objeto B tem {b.ndim} dimensões.')\n",
    "print(f'O objeto C tem {c.ndim} dimensões.')\n",
    "print(f'O objeto D tem {d.ndim} dimensões.')\n",
    "\n"
   ]
  },
  {
   "cell_type": "markdown",
   "id": "af50ed62",
   "metadata": {},
   "source": [
    "## QUESTÃO 04\n",
    "Transforme o array em uma matriz 4 por 3 utilizando numpy.\n",
    "\n",
    "arr = [1, 2, 3, 4, 'Amelia, 'Bruna, 'Carolina', 'Débora', True, False, False, True]\n",
    "\n",
    "Depois, faça o mesmo para uma matriz 3 por 4."
   ]
  },
  {
   "cell_type": "code",
   "execution_count": null,
   "id": "3ff4e5ea",
   "metadata": {},
   "outputs": [],
   "source": [
    "import numpy as np\n",
    "arr = np.array([1, 2, 3, 4, 'Amelia', 'Bruna', 'Carolina', 'Débora', True, False, False, True])\n",
    "\n",
    "mat4_3 = arr.copy()\n",
    "mat3_4 = arr.copy()\n",
    "\n",
    "mat4_3 = arr.reshape(4, 3)\n",
    "mat3_4 = arr.reshape(3, 4)\n",
    "\n",
    "print(f'O array original é:\\n {arr}')\n",
    "print(f'A sua matriz é: {arr.shape}')\n",
    "print('=' * 50)\n",
    "print(f'O array 4 x 3 é:\\n {mat4_3}')\n",
    "print(f'A sua matriz é: {mat4_3.shape}')\n",
    "print('=' * 50)\n",
    "print(f'O array original é:\\n {mat3_4}')\n",
    "print(f'A sua matriz é: {mat3_4.shape}')"
   ]
  },
  {
   "cell_type": "markdown",
   "id": "ef2854f5",
   "metadata": {},
   "source": [
    "## QUESTÃO 05\n",
    "Transforme o seguinte array em uma matriz 3D 3x3x3:\n",
    "\n",
    "arr = range(27)\n",
    "\n",
    "Deixe um comentário explicando o que significa uma matriz 3D."
   ]
  },
  {
   "cell_type": "code",
   "execution_count": 8,
   "id": "bff7ea26",
   "metadata": {},
   "outputs": [
    {
     "name": "stdout",
     "output_type": "stream",
     "text": [
      "O array em matriz 3D é:\n",
      "[[[27 27 27]\n",
      "  [27 27 27]\n",
      "  [27 27 27]]\n",
      "\n",
      " [[27 27 27]\n",
      "  [27 27 27]\n",
      "  [27 27 27]]\n",
      "\n",
      " [[27 27 27]\n",
      "  [27 27 27]\n",
      "  [27 27 27]]]\n",
      "As dimensões do array modificado é:\n",
      "3\n"
     ]
    }
   ],
   "source": [
    "import numpy as np\n",
    "arr = np.array(27)\n",
    "arr1 = np.full((3,3,3),27)\n",
    "print(f'O array em matriz 3D é:\\n{arr1}')\n",
    "print(f'As dimensões do array modificado é:\\n{arr1.ndim}')\n"
   ]
  },
  {
   "cell_type": "markdown",
   "id": "457ed221",
   "metadata": {},
   "source": [
    "#### Uma matriz em 3D se trata de um conjunto tabular númerico em 3 dimensões, analogo aos 3 eixos x, y, z."
   ]
  },
  {
   "cell_type": "markdown",
   "id": "f4946783",
   "metadata": {},
   "source": [
    "## QUESTÃO 06\n",
    "Tente transformar o seguinte array em uma matriz 3x3x3\n",
    "\n",
    "arr = [1, 2, 3, 4, 5, 6, 7, 8]\n",
    "\n",
    "Funciona? Se sim, explique o motivo. Se não, explique o erro."
   ]
  },
  {
   "cell_type": "code",
   "execution_count": 19,
   "id": "83fdb923",
   "metadata": {},
   "outputs": [
    {
     "ename": "ValueError",
     "evalue": "cannot reshape array of size 8 into shape (3,3,3)",
     "output_type": "error",
     "traceback": [
      "\u001b[1;31m---------------------------------------------------------------------------\u001b[0m",
      "\u001b[1;31mValueError\u001b[0m                                Traceback (most recent call last)",
      "\u001b[1;32m<ipython-input-19-65101c53b44d>\u001b[0m in \u001b[0;36m<module>\u001b[1;34m\u001b[0m\n\u001b[0;32m      1\u001b[0m \u001b[1;32mimport\u001b[0m \u001b[0mnumpy\u001b[0m \u001b[1;32mas\u001b[0m \u001b[0mnp\u001b[0m\u001b[1;33m\u001b[0m\u001b[1;33m\u001b[0m\u001b[0m\n\u001b[0;32m      2\u001b[0m \u001b[0marr\u001b[0m \u001b[1;33m=\u001b[0m \u001b[0mnp\u001b[0m\u001b[1;33m.\u001b[0m\u001b[0marray\u001b[0m\u001b[1;33m(\u001b[0m\u001b[1;33m[\u001b[0m\u001b[1;36m1\u001b[0m\u001b[1;33m,\u001b[0m \u001b[1;36m2\u001b[0m\u001b[1;33m,\u001b[0m \u001b[1;36m3\u001b[0m\u001b[1;33m,\u001b[0m \u001b[1;36m4\u001b[0m\u001b[1;33m,\u001b[0m \u001b[1;36m5\u001b[0m\u001b[1;33m,\u001b[0m \u001b[1;36m6\u001b[0m\u001b[1;33m,\u001b[0m \u001b[1;36m7\u001b[0m\u001b[1;33m,\u001b[0m \u001b[1;36m8\u001b[0m\u001b[1;33m]\u001b[0m\u001b[1;33m)\u001b[0m\u001b[1;33m\u001b[0m\u001b[1;33m\u001b[0m\u001b[0m\n\u001b[1;32m----> 3\u001b[1;33m \u001b[0marr_\u001b[0m \u001b[1;33m=\u001b[0m \u001b[0marr\u001b[0m\u001b[1;33m.\u001b[0m\u001b[0mreshape\u001b[0m\u001b[1;33m(\u001b[0m\u001b[1;36m3\u001b[0m\u001b[1;33m,\u001b[0m\u001b[1;36m3\u001b[0m\u001b[1;33m,\u001b[0m\u001b[1;36m3\u001b[0m\u001b[1;33m)\u001b[0m\u001b[1;33m\u001b[0m\u001b[1;33m\u001b[0m\u001b[0m\n\u001b[0m\u001b[0;32m      4\u001b[0m \u001b[0mprint\u001b[0m\u001b[1;33m(\u001b[0m\u001b[1;34mf'{arr_.ndim}'\u001b[0m\u001b[1;33m)\u001b[0m\u001b[1;33m\u001b[0m\u001b[1;33m\u001b[0m\u001b[0m\n\u001b[0;32m      5\u001b[0m \u001b[0marr_\u001b[0m \u001b[1;33m=\u001b[0m \u001b[0marr\u001b[0m\u001b[1;33m.\u001b[0m\u001b[0mreshape\u001b[0m\u001b[1;33m(\u001b[0m\u001b[1;36m2\u001b[0m\u001b[1;33m,\u001b[0m\u001b[1;36m2\u001b[0m\u001b[1;33m,\u001b[0m\u001b[1;36m2\u001b[0m\u001b[1;33m)\u001b[0m\u001b[1;33m\u001b[0m\u001b[1;33m\u001b[0m\u001b[0m\n",
      "\u001b[1;31mValueError\u001b[0m: cannot reshape array of size 8 into shape (3,3,3)"
     ]
    }
   ],
   "source": [
    "import numpy as np\n",
    "arr = np.array([1, 2, 3, 4, 5, 6, 7, 8])\n",
    "arr_ = arr.reshape(3,3,3)\n",
    "print(f'{arr_.ndim}')\n",
    "arr_ = arr.reshape(2,2,2)\n",
    "print(f'{arr_.ndim}')\n"
   ]
  },
  {
   "cell_type": "code",
   "execution_count": 20,
   "id": "5148bc5a",
   "metadata": {},
   "outputs": [
    {
     "name": "stdout",
     "output_type": "stream",
     "text": [
      "3\n"
     ]
    }
   ],
   "source": [
    "arr_ = arr.reshape(2,2,2)\n",
    "print(f'{arr_.ndim}')"
   ]
  },
  {
   "cell_type": "markdown",
   "id": "e3ae9005",
   "metadata": {},
   "source": [
    "#### Não é possível transformar este array em uma matriz 3x3x3 devido ao fato de ele possuir somente 8 elementos. Para tal ele necessitaria ter 9 elementos. Em contrapartida é possível criar uma matriz 3D se usarmos uma formatação de 2x2x2"
   ]
  },
  {
   "cell_type": "markdown",
   "id": "134b076b",
   "metadata": {},
   "source": [
    "## QUESTÃO 07\n",
    "Percorra o seguinte array utilizando for encaixado:\n",
    "\n",
    "arr = [[[1, 2], [3, 4]], [[5, 6], [7, 8]]]\n",
    "\n",
    "Agora, percorra o mesmo array utilizando a função nditer de numpy."
   ]
  },
  {
   "cell_type": "code",
   "execution_count": 29,
   "id": "70ccb900",
   "metadata": {},
   "outputs": [
    {
     "name": "stdout",
     "output_type": "stream",
     "text": [
      "Utilizando o for encaixado:\n",
      "1\n",
      "2\n",
      "3\n",
      "4\n",
      "5\n",
      "6\n",
      "7\n",
      "8\n",
      "==============================\n",
      "Utilizando o nditer:\n",
      "1\n",
      "2\n",
      "3\n",
      "4\n",
      "5\n",
      "6\n",
      "7\n",
      "8\n"
     ]
    }
   ],
   "source": [
    "import numpy as np\n",
    "arr = np.array([[[1, 2], [3, 4]], [[5, 6], [7, 8]]])\n",
    "print('Utilizando o for encaixado:')\n",
    "for x in arr:\n",
    "    for y in x:\n",
    "        for z in y:\n",
    "            print(z)\n",
    "print('=' * 30)\n",
    "print('Utilizando o nditer:')\n",
    "for i in np.nditer(arr):\n",
    "    print(i)\n",
    "            \n"
   ]
  },
  {
   "cell_type": "markdown",
   "id": "8f869177",
   "metadata": {},
   "source": [
    "## QUESTÃO 08\n",
    "Percorra os indexes do seguinte array utilizando for encaixado:\n",
    "\n",
    "arr = [[[1, 2], [3, 4]], [[5, 6], [7, 8]]]\n",
    "\n",
    "Agora faça o mesmo trabalho utilizando a função ndenumerate."
   ]
  },
  {
   "cell_type": "code",
   "execution_count": 30,
   "id": "7033e824",
   "metadata": {},
   "outputs": [
    {
     "name": "stdout",
     "output_type": "stream",
     "text": [
      "Utilizando o for encaixado:\n",
      "1\n",
      "2\n",
      "3\n",
      "4\n",
      "5\n",
      "6\n",
      "7\n",
      "8\n",
      "==============================\n",
      "Utilizando o ndenumerate:\n",
      "((0, 0, 0), 1)\n",
      "((0, 0, 1), 2)\n",
      "((0, 1, 0), 3)\n",
      "((0, 1, 1), 4)\n",
      "((1, 0, 0), 5)\n",
      "((1, 0, 1), 6)\n",
      "((1, 1, 0), 7)\n",
      "((1, 1, 1), 8)\n"
     ]
    }
   ],
   "source": [
    "import numpy as np\n",
    "arr = np.array([[[1, 2], [3, 4]], [[5, 6], [7, 8]]])\n",
    "print('Utilizando o for encaixado:')\n",
    "for x in arr:\n",
    "    for y in x:\n",
    "        for z in y:\n",
    "            print(z)\n",
    "print('=' * 30)\n",
    "print('Utilizando o ndenumerate:')\n",
    "for i in np.ndenumerate(arr):\n",
    "    print(i)"
   ]
  },
  {
   "cell_type": "markdown",
   "id": "1a08c9b3",
   "metadata": {},
   "source": [
    "## QUESTÃO 09\n",
    "Junte os dois seguintes arrays na horizontal:\n",
    "\n",
    "arr1 = [1, 2, 3]\n",
    "\n",
    "arr2 = [4, 5, 6]\n",
    "\n",
    "Depois, os junte verticalmente."
   ]
  },
  {
   "cell_type": "code",
   "execution_count": 31,
   "id": "c680f114",
   "metadata": {},
   "outputs": [
    {
     "name": "stdout",
     "output_type": "stream",
     "text": [
      "O empilhamento horizontal é:\n",
      "[1 2 3 4 5 6]\n",
      "========================================\n",
      "O empilhamento vertical é:\n",
      "[[1 2 3]\n",
      " [4 5 6]]\n"
     ]
    }
   ],
   "source": [
    "arr1 = np.array([1, 2, 3])\n",
    "\n",
    "arr2 = np.array([4, 5, 6])\n",
    "\n",
    "print(f'O empilhamento horizontal é:\\n{np.hstack((arr1,arr2))}')\n",
    "print('=' * 40)\n",
    "print(f'O empilhamento vertical é:\\n{np.vstack((arr1,arr2))}')"
   ]
  },
  {
   "cell_type": "markdown",
   "id": "c8f776ca",
   "metadata": {},
   "source": [
    "## QUESTÃO 10\n",
    "DESAFIO: Utilizando manipulação de arrays, ache os indexes do array cujo valor possua apenas 2 vogais no nome usando numpy.\n",
    "\n",
    "frutas = ['banana', 'morango, 'uva', 'pitaia', 'abacate', 'abacaxi', 'acerola', 'jenipapo', 'kiwi']"
   ]
  },
  {
   "cell_type": "code",
   "execution_count": 158,
   "id": "1cbc8f75",
   "metadata": {},
   "outputs": [
    {
     "name": "stdout",
     "output_type": "stream",
     "text": [
      "**************************************************\n",
      "A lista de palavras com apenas 2 vogais é:\n",
      "['uva', 'kiwi']\n"
     ]
    }
   ],
   "source": [
    "# Sem usar numpy\n",
    "frutas1 = ['banana', 'morango', 'uva', 'pitaia', 'abacate', 'abacaxi', 'acerola', 'jenipapo', 'kiwi']\n",
    "\n",
    "a = []\n",
    "b = int()\n",
    "c = []\n",
    "\n",
    "for i in frutas1:\n",
    "    for x in i:\n",
    "        if x in 'AaEeIiOoUu':\n",
    "            b += 1\n",
    "    if b == 2:\n",
    "        c.append(i)\n",
    "    b = 0\n",
    "            \n",
    "print('*' * 50)\n",
    "print(f'A lista de palavras com apenas 2 vogais é:\\n{c}')\n"
   ]
  },
  {
   "cell_type": "code",
   "execution_count": 193,
   "id": "0ea93a47",
   "metadata": {},
   "outputs": [
    {
     "ename": "TypeError",
     "evalue": "'numpy.dtype[str_]' object is not callable",
     "output_type": "error",
     "traceback": [
      "\u001b[1;31m---------------------------------------------------------------------------\u001b[0m",
      "\u001b[1;31mTypeError\u001b[0m                                 Traceback (most recent call last)",
      "\u001b[1;32m<ipython-input-193-e5e6b4da195f>\u001b[0m in \u001b[0;36m<module>\u001b[1;34m\u001b[0m\n\u001b[0;32m     15\u001b[0m \u001b[0mfrutas\u001b[0m \u001b[1;33m=\u001b[0m \u001b[0mnp\u001b[0m\u001b[1;33m.\u001b[0m\u001b[0marray\u001b[0m\u001b[1;33m(\u001b[0m\u001b[1;33m[\u001b[0m\u001b[1;34m'banana'\u001b[0m\u001b[1;33m,\u001b[0m \u001b[1;34m'morango'\u001b[0m\u001b[1;33m,\u001b[0m \u001b[1;34m'uva'\u001b[0m\u001b[1;33m,\u001b[0m \u001b[1;34m'pitaia'\u001b[0m\u001b[1;33m,\u001b[0m \u001b[1;34m'abacate'\u001b[0m\u001b[1;33m,\u001b[0m \u001b[1;34m'abacaxi'\u001b[0m\u001b[1;33m,\u001b[0m \u001b[1;34m'acerola'\u001b[0m\u001b[1;33m,\u001b[0m \u001b[1;34m'jenipapo'\u001b[0m\u001b[1;33m,\u001b[0m \u001b[1;34m'kiwi'\u001b[0m\u001b[1;33m]\u001b[0m\u001b[1;33m)\u001b[0m\u001b[1;33m\u001b[0m\u001b[1;33m\u001b[0m\u001b[0m\n\u001b[0;32m     16\u001b[0m \u001b[0msep_arr\u001b[0m\u001b[1;33m(\u001b[0m\u001b[0mfrutas\u001b[0m\u001b[1;33m)\u001b[0m\u001b[1;33m\u001b[0m\u001b[1;33m\u001b[0m\u001b[0m\n\u001b[1;32m---> 17\u001b[1;33m \u001b[0mprint\u001b[0m\u001b[1;33m(\u001b[0m\u001b[0mfrutas\u001b[0m\u001b[1;33m.\u001b[0m\u001b[0mdtype\u001b[0m\u001b[1;33m(\u001b[0m\u001b[1;33m)\u001b[0m\u001b[1;33m)\u001b[0m\u001b[1;33m\u001b[0m\u001b[1;33m\u001b[0m\u001b[0m\n\u001b[0m",
      "\u001b[1;31mTypeError\u001b[0m: 'numpy.dtype[str_]' object is not callable"
     ]
    }
   ],
   "source": [
    "# Usando Numpy\n",
    "import numpy as np\n",
    "\n",
    "def sep_arr(a):\n",
    "    b = int()\n",
    "    c = []\n",
    "    for i in a:\n",
    "        for x in i:\n",
    "            if x in 'AaEeIiOoUu':\n",
    "                b += 1\n",
    "        if b == 2:\n",
    "            c.append(i)\n",
    "        b = 0\n",
    "    return c\n",
    "    \n",
    "frutas = np.array(['banana', 'morango', 'uva', 'pitaia', 'abacate', 'abacaxi', 'acerola', 'jenipapo', 'kiwi'])\n",
    "sep_arr(frutas)\n"
   ]
  },
  {
   "cell_type": "markdown",
   "id": "f3c2200d",
   "metadata": {},
   "source": [
    "## QUESTÃO 11\n",
    "a) Tranforme o seguinte array 2D em dois arrays 2D:\n",
    "\n",
    "arr = [[1, 2], [3, 4], [5, 6], [7, 8]]\n",
    "\n",
    "b) Transforme o seguinte array em três arrays com apenas uma coluna:\n",
    "\n",
    "arr = [[1, 2, 3], [4, 5, 6], [7, 8, 9]]"
   ]
  },
  {
   "cell_type": "markdown",
   "id": "2f12347a",
   "metadata": {},
   "source": [
    "### A)"
   ]
  },
  {
   "cell_type": "code",
   "execution_count": 33,
   "id": "a68130f0",
   "metadata": {},
   "outputs": [
    {
     "name": "stdout",
     "output_type": "stream",
     "text": [
      "[[[1 2]\n",
      "  [3 4]]\n",
      "\n",
      " [[5 6]\n",
      "  [7 8]]]\n",
      "(2, 2, 2)\n"
     ]
    }
   ],
   "source": [
    "#A)\n",
    "import numpy as np\n",
    "arr = np.array([[1, 2], [3, 4], [5, 6], [7, 8]])\n",
    "b = arr.reshape(2,2,2)\n",
    "print(b)\n",
    "print(b.shape)\n"
   ]
  },
  {
   "cell_type": "markdown",
   "id": "d39c46cf",
   "metadata": {},
   "source": [
    "### B)"
   ]
  },
  {
   "cell_type": "code",
   "execution_count": 35,
   "id": "1572014d",
   "metadata": {},
   "outputs": [
    {
     "name": "stdout",
     "output_type": "stream",
     "text": [
      "[[[1]\n",
      "  [2]\n",
      "  [3]]\n",
      "\n",
      " [[4]\n",
      "  [5]\n",
      "  [6]]\n",
      "\n",
      " [[7]\n",
      "  [8]\n",
      "  [9]]]\n",
      "(3, 3, 1)\n"
     ]
    }
   ],
   "source": [
    "#B)\n",
    "arr = np.array([[1, 2, 3], [4, 5, 6], [7, 8, 9]])\n",
    "b = arr.reshape(3,3,1)\n",
    "print(b)\n",
    "print(b.shape)"
   ]
  },
  {
   "cell_type": "markdown",
   "id": "47c1254b",
   "metadata": {},
   "source": [
    "## QUESTÃO 12\n",
    "DESAFIO: Utilizando manipulação de arrays, vamos seguir um conjunto de passos para organizar alguns dados. Teremos nesse seguinte array uma ordem que segue:\n",
    "\n",
    "[Nome do aluno, idade, 'gênero', signo, altura, nota do 1° semestre, nota do 2° bimestre, se está ou não inscrito no próximo ano da escola, nome do outro aluno, idade do outro aluno...]\n",
    "\n",
    "arr = ['Amélia', 13, 'F', 'peixes', 1.51, 9, 7, True, 'Bruno', 14, 'O', 'leão', 1.60, 4, 10, False, 'João', 14, 'M', 'escorpião', 1.58, 8, 9, True, 'Jordana', 13, 'F', 'escorpião', 1.72, 9, 9, False]\n",
    "\n",
    "a) Enumere os indexes de todas as informações que são do tipo string.\n",
    "\n",
    "b) Separe essas informações do objeto arr de forma que cada aluno tenha seu próprio array.\n",
    "\n",
    "c) Separe em duas colunas, a primeira com o nome, a idade, o gênero e o signo e a segunda com a altura, nota do primeiro bimestre, nota do segundo bimestre e se está ou não inscrito no próximo ano.\n",
    "\n",
    "d) Elimine o gênero de todos os arrays cujos alunos tem menos de 14 anos."
   ]
  },
  {
   "cell_type": "markdown",
   "id": "3670c535",
   "metadata": {},
   "source": [
    "### A) Enumere os indexes de todas as informações que são do tipo string."
   ]
  },
  {
   "cell_type": "code",
   "execution_count": 44,
   "id": "7e953b7c",
   "metadata": {},
   "outputs": [
    {
     "name": "stdout",
     "output_type": "stream",
     "text": [
      "[ 0  2  3  7  8 10 11 15 16 18 19 23 24 26 27 31]\n",
      "==================================================\n"
     ]
    }
   ],
   "source": [
    "arr = np.array(['Amélia', 13, 'F', 'peixes', 1.51, 9, 7, True, \n",
    "                'Bruno', 14, 'O', 'leão', 1.60, 4, 10, False, \n",
    "                'João', 14, 'M', 'escorpião', 1.58, 8, 9, True, \n",
    "                'Jordana', 13, 'F', 'escorpião', 1.72, 9, 9, False])\n",
    "\n",
    "# a)\n",
    "indices = np.where(np.char.isalpha(arr))[0]\n",
    "print(indices)\n",
    "print('=' * 50)\n"
   ]
  },
  {
   "cell_type": "markdown",
   "id": "a4679cda",
   "metadata": {},
   "source": [
    "### B) Separe essas informações do objeto arr de forma que cada aluno tenha seu próprio array."
   ]
  },
  {
   "cell_type": "code",
   "execution_count": 45,
   "id": "49bf2b77",
   "metadata": {},
   "outputs": [
    {
     "name": "stdout",
     "output_type": "stream",
     "text": [
      "['Amélia' '13' 'F' 'peixes' '1.51' '9' '7' 'True']\n",
      "['Bruno' '14' 'O' 'leão' '1.6' '4' '10' 'False']\n",
      "['João' '14' 'M' 'escorpião' '1.58' '8' '9' 'True']\n",
      "['Jordana' '13' 'F' 'escorpião' '1.72' '9' '9' 'False']\n",
      "=======================================================\n"
     ]
    }
   ],
   "source": [
    "# b)\n",
    "alunos = np.split(arr, 4) # o número se refere a qtd de divisões\n",
    "for i in alunos:\n",
    "    print(i)\n",
    "print('=' * 55)"
   ]
  },
  {
   "cell_type": "markdown",
   "id": "918f1ba5",
   "metadata": {},
   "source": [
    "### C) Separe em duas colunas, a primeira com o nome, a idade, o gênero e o signo e a segunda com a altura, nota do primeiro bimestre, nota do segundo bimestre e se está ou não inscrito no próximo ano."
   ]
  },
  {
   "cell_type": "code",
   "execution_count": 46,
   "id": "d76bf19f",
   "metadata": {
    "scrolled": true
   },
   "outputs": [
    {
     "name": "stdout",
     "output_type": "stream",
     "text": [
      "[['Amélia' '13' 'F' 'peixes']\n",
      " ['Bruno' '14' 'O' 'leão']\n",
      " ['João' '14' 'M' 'escorpião']\n",
      " ['Jordana' '13' 'F' 'escorpião']]\n",
      "[['1.51' '9' '7' 'True']\n",
      " ['1.6' '4' '10' 'False']\n",
      " ['1.58' '8' '9' 'True']\n",
      " ['1.72' '9' '9' 'False']]\n",
      "===================================\n",
      "['Amélia' '13' 'F' 'peixes']\n",
      "['1.51' '9' '7' 'True']\n",
      "['Bruno' '14' 'O' 'leão']\n",
      "['1.6' '4' '10' 'False']\n",
      "['João' '14' 'M' 'escorpião']\n",
      "['1.58' '8' '9' 'True']\n",
      "['Jordana' '13' 'F' 'escorpião']\n",
      "['1.72' '9' '9' 'False']\n",
      "===================================\n"
     ]
    }
   ],
   "source": [
    "## c)\n",
    "coluna1, coluna2 = np.hsplit(arr.reshape(-1, 8), 2)\n",
    "print(coluna1)\n",
    "print(coluna2)\n",
    "print('=' * 35)\n",
    "# Também pode ser feito assim:\n",
    "alunos = np.split(arr, 8) # o número se refere a qtd de divisões\n",
    "for i in alunos:\n",
    "    print(i)\n",
    "print('=' * 35)"
   ]
  },
  {
   "cell_type": "markdown",
   "id": "1c38e2c3",
   "metadata": {},
   "source": [
    "### D) Elimine o gênero de todos os arrays cujos alunos tem menos de 14 anos."
   ]
  },
  {
   "cell_type": "code",
   "execution_count": 48,
   "id": "797a1060",
   "metadata": {},
   "outputs": [
    {
     "name": "stdout",
     "output_type": "stream",
     "text": [
      "[['Amélia' '13' 'None' 'peixes']\n",
      " ['Bruno' '14' 'O' 'leão']\n",
      " ['João' '14' 'M' 'escorpião']\n",
      " ['Jordana' '13' 'None' 'escorpião']]\n",
      "==================================================\n"
     ]
    }
   ],
   "source": [
    "# d)\n",
    "def delete_gender(x):\n",
    "    if int(x[1]) < 14:\n",
    "        x[2] = None\n",
    "    return x\n",
    "\n",
    "sem_genero = np.apply_along_axis(delete_gender, axis=1, arr=coluna1)\n",
    "print(sem_genero)\n",
    "print('=' * 50)"
   ]
  }
 ],
 "metadata": {
  "kernelspec": {
   "display_name": "Python 3",
   "language": "python",
   "name": "python3"
  },
  "language_info": {
   "codemirror_mode": {
    "name": "ipython",
    "version": 3
   },
   "file_extension": ".py",
   "mimetype": "text/x-python",
   "name": "python",
   "nbconvert_exporter": "python",
   "pygments_lexer": "ipython3",
   "version": "3.8.8"
  }
 },
 "nbformat": 4,
 "nbformat_minor": 5
}
