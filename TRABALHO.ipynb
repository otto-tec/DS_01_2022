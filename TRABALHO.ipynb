{
 "cells": [
  {
   "cell_type": "code",
   "execution_count": null,
   "id": "55488b69",
   "metadata": {},
   "outputs": [],
   "source": [
    "import numpy as np"
   ]
  },
  {
   "cell_type": "code",
   "execution_count": null,
   "id": "65366146",
   "metadata": {},
   "outputs": [],
   "source": [
    "arr = range(27)\n",
    "arr"
   ]
  },
  {
   "cell_type": "code",
   "execution_count": null,
   "id": "6991b27b",
   "metadata": {},
   "outputs": [],
   "source": [
    "# QUESTÃO 06 NUMPY\n",
    "arr = np.array([1, 2, 3, 4, 5, 6, 7, 8])\n",
    "b  = arr.reshape(3,3,3)"
   ]
  },
  {
   "cell_type": "markdown",
   "id": "edec3eba",
   "metadata": {},
   "source": [
    "### NÃO É POSSÍVEL FORMAR UMA MATRIZ 3 X 3 X 3 POIS O ARRAY TEM SOMENTE 8 ELEMENTOS, A MATRIZ NESSE FORMATO NECESSITA SER DE 9 ELEMENTOS. COM ESSA QUANTIDADE DE STRINGS É POSSIVEL FAZER SOMENTE UMA MATRIZ 2 X 2 X 2"
   ]
  },
  {
   "cell_type": "code",
   "execution_count": null,
   "id": "ee4f61ce",
   "metadata": {},
   "outputs": [],
   "source": [
    "# QUESTÃO 07\n",
    "\n",
    "arr = np.array([[[1, 2], [3, 4]], [[5, 6], [7, 8]]])\n",
    "print('A lista com for encadeado:')\n",
    "for x in arr:\n",
    "    for y in x:\n",
    "        for z in y:\n",
    "         print(z)   \n",
    "print('=' * 40)\n",
    "print('A lista com o nditer:')\n",
    "for x in np.nditer(arr):\n",
    "      print(x)"
   ]
  },
  {
   "cell_type": "code",
   "execution_count": null,
   "id": "9a72fd75",
   "metadata": {},
   "outputs": [],
   "source": [
    "# Questão 08\n",
    "\n",
    "arr = np.array([[[1, 2], [3, 4]], [[5, 6], [7, 8]]])\n",
    "print('A lista com for encadeado:')\n",
    "for x in arr:\n",
    "    for y in x:\n",
    "        for z in y:\n",
    "         print(z)   \n",
    "print('=' * 40)\n",
    "print('A lista com o ndenumerate:')\n",
    "for x in np.ndenumerate(arr):\n",
    "      print(x)"
   ]
  },
  {
   "cell_type": "code",
   "execution_count": null,
   "id": "273a940e",
   "metadata": {},
   "outputs": [],
   "source": [
    "# Questão 09\n",
    "arr1 = np.array([1, 2, 3])\n",
    "\n",
    "arr2 = np.array([4, 5, 6])\n",
    "\n",
    "print(f'O empilhamento horizontal é:\\n{np.hstack((arr1,arr2))}')\n",
    "print('=' * 40)\n",
    "print(f'O empilhamento vertical é:\\n{np.vstack((arr1,arr2))}')"
   ]
  },
  {
   "cell_type": "code",
   "execution_count": 45,
   "id": "43991376",
   "metadata": {},
   "outputs": [
    {
     "name": "stdout",
     "output_type": "stream",
     "text": [
      "b1n1n1\n",
      "mor1ngo\n",
      "uv1\n",
      "pit1i1\n",
      "pit1i1\n",
      "pit1i1\n",
      "pit1i1\n",
      "jenip1po\n",
      "kiwi\n"
     ]
    }
   ],
   "source": [
    "# Questão 10\n",
    "# DESAFIO: Utilizando manipulação de arrays, ache os indexes do array cujo valor possua apenas 2 vogais no nome usando numpy.\n",
    "import numpy as np\n",
    "frutas = np.array(['banana', 'morango', 'uva', 'pitaia', 'abacate', 'abacaxi', 'acerola', 'jenipapo', 'kiwi'])\n",
    "f2 = []\n",
    "cont = 0\n",
    "for i in frutas:\n",
    "    teste = i.find('a')\n",
    "    if teste:\n",
    "        alt_a = i.replace('a', '1')\n",
    "    print(alt_a)\n",
    "    #if i in \"a\":\n",
    "       # a = i.count(\"a\")\n",
    "        #cont += a\n",
    "        #e = i.count(\"e\")\n",
    "        #cont += e\n",
    "        #i = i.count(\"i\")\n",
    "        #cont += i\n",
    "        #o = i.count(\"o\")\n",
    "        #cont += o\n",
    "        #u = i.count(\"u\")\n",
    "        #cont += u\n",
    "        #if a  == 2:\n",
    "            #f2.append(frutas[i])\n",
    "    #print(a)"
   ]
  },
  {
   "cell_type": "markdown",
   "id": "2a38b107",
   "metadata": {},
   "source": [
    "Questão #11\n",
    "Vale10\n",
    "Enunciado\n",
    "\n",
    "a) Tranforme o seguinte array 2D em dois arrays 2D:\n",
    "\n",
    "    arr = [[1, 2], [3, 4], [5, 6], [7, 8]]\n",
    "\n",
    "b) Transforme o seguinte array em três arrays com apenas uma coluna:\n",
    "\n",
    "    arr = [[1, 2, 3], [4, 5, 6], [7, 8, 9]]\n",
    "\n"
   ]
  },
  {
   "cell_type": "code",
   "execution_count": 9,
   "id": "e46148fe",
   "metadata": {},
   "outputs": [
    {
     "name": "stdout",
     "output_type": "stream",
     "text": [
      "[[[1 2]\n",
      "  [3 4]]\n",
      "\n",
      " [[5 6]\n",
      "  [7 8]]]\n",
      "(2, 2, 2)\n"
     ]
    }
   ],
   "source": [
    "# a)\n",
    "import numpy as np\n",
    "arr = np.array([[1, 2], [3, 4], [5, 6], [7, 8]])\n",
    "b = arr.reshape(2,2,2)\n",
    "print(b)\n",
    "print(b.shape)"
   ]
  },
  {
   "cell_type": "code",
   "execution_count": 12,
   "id": "ed9f5c72",
   "metadata": {},
   "outputs": [
    {
     "name": "stdout",
     "output_type": "stream",
     "text": [
      "[[[1]\n",
      "  [2]\n",
      "  [3]]\n",
      "\n",
      " [[4]\n",
      "  [5]\n",
      "  [6]]\n",
      "\n",
      " [[7]\n",
      "  [8]\n",
      "  [9]]]\n"
     ]
    }
   ],
   "source": [
    "# b)\n",
    "arr = np.array([[1, 2, 3], [4, 5, 6], [7, 8, 9]])\n",
    "b = arr.reshape(3,3,1)\n",
    "print(b)"
   ]
  },
  {
   "cell_type": "markdown",
   "id": "73b270e9",
   "metadata": {},
   "source": [
    "Enunciado\n",
    "\n",
    "DESAFIO: Utilizando manipulação de arrays, vamos seguir um conjunto de passos para organizar alguns dados. Teremos nesse seguinte array uma ordem que segue:\n",
    "\n",
    "    [Nome do aluno, idade, 'gênero', signo, altura, nota do 1° semestre, nota do 2° bimestre, se está ou não inscrito no próximo ano da escola, nome do outro aluno, idade do outro aluno...]\n",
    "\n",
    "    arr = ['Amélia', 13, 'F', 'peixes', 1.51, 9, 7, True, 'Bruno', 14, 'O', 'leão', 1.60, 4, 10, False, 'João', 14, 'M', 'escorpião', 1.58, 8, 9, True, 'Jordana', 13, 'F', 'escorpião', 1.72, 9, 9, False]\n",
    "\n",
    "a) Enumere os indexes de todas as informações que são do tipo string.\n",
    "\n",
    "b) Separe essas informações do objeto arr de forma que cada aluno tenha seu próprio array.\n",
    "\n",
    "c) Separe em duas colunas, a primeira com o nome, a idade, o gênero e o signo e a segunda com a altura, nota do primeiro bimestre, nota do segundo bimestre e se está ou não inscrito no próximo ano.\n",
    "\n",
    "d) Elimine o gênero de todos os arrays cujos alunos tem menos de 14 anos.\n"
   ]
  },
  {
   "cell_type": "code",
   "execution_count": 27,
   "id": "f0dd6cbb",
   "metadata": {},
   "outputs": [
    {
     "name": "stdout",
     "output_type": "stream",
     "text": [
      "[ 0  2  3  7  8 10 11 15 16 18 19 23 24 26 27 31]\n",
      "==================================================\n",
      "['Amélia' '13' 'F' 'peixes' '1.51' '9' '7' 'True']\n",
      "['Bruno' '14' 'O' 'leão' '1.6' '4' '10' 'False']\n",
      "['João' '14' 'M' 'escorpião' '1.58' '8' '9' 'True']\n",
      "['Jordana' '13' 'F' 'escorpião' '1.72' '9' '9' 'False']\n",
      "==================================================\n",
      "[['Amélia' '13' 'F' 'peixes']\n",
      " ['Bruno' '14' 'O' 'leão']\n",
      " ['João' '14' 'M' 'escorpião']\n",
      " ['Jordana' '13' 'F' 'escorpião']]\n",
      "[['1.51' '9' '7' 'True']\n",
      " ['1.6' '4' '10' 'False']\n",
      " ['1.58' '8' '9' 'True']\n",
      " ['1.72' '9' '9' 'False']]\n",
      "==================================================\n",
      "['Amélia' '13' 'F' 'peixes']\n",
      "['1.51' '9' '7' 'True']\n",
      "['Bruno' '14' 'O' 'leão']\n",
      "['1.6' '4' '10' 'False']\n",
      "['João' '14' 'M' 'escorpião']\n",
      "['1.58' '8' '9' 'True']\n",
      "['Jordana' '13' 'F' 'escorpião']\n",
      "['1.72' '9' '9' 'False']\n",
      "==================================================\n",
      "[['Amélia' '13' 'None' 'peixes']\n",
      " ['Bruno' '14' 'O' 'leão']\n",
      " ['João' '14' 'M' 'escorpião']\n",
      " ['Jordana' '13' 'None' 'escorpião']]\n",
      "==================================================\n"
     ]
    }
   ],
   "source": [
    "arr = np.array(['Amélia', 13, 'F', 'peixes', 1.51, 9, 7, True, \n",
    "                'Bruno', 14, 'O', 'leão', 1.60, 4, 10, False, \n",
    "                'João', 14, 'M', 'escorpião', 1.58, 8, 9, True, \n",
    "                'Jordana', 13, 'F', 'escorpião', 1.72, 9, 9, False])\n",
    "\n",
    "# a)\n",
    "indices = np.where(np.char.isalpha(arr))[0]\n",
    "print(indices)\n",
    "print('=' * 50)\n",
    "# b)\n",
    "alunos = np.split(arr, 4) # o número se refere a qtd de divisões\n",
    "for i in alunos:\n",
    "    print(i)\n",
    "print('=' * 50)\n",
    "\n",
    "# c)\n",
    "coluna1, coluna2 = np.hsplit(arr.reshape(-1, 8), 2)\n",
    "print(coluna1)\n",
    "print(coluna2)\n",
    "print('=' * 50)\n",
    "# Também pode ser feito assim:\n",
    "alunos = np.split(arr, 8) # o número se refere a qtd de divisões\n",
    "for i in alunos:\n",
    "    print(i)\n",
    "print('=' * 50)\n",
    "# d)\n",
    "def delete_gender(x):\n",
    "    if int(x[1]) < 14:\n",
    "        x[2] = None\n",
    "    return x\n",
    "\n",
    "sem_genero = np.apply_along_axis(delete_gender, axis=1, arr=coluna1)\n",
    "print(sem_genero)\n",
    "print('=' * 50)\n"
   ]
  },
  {
   "cell_type": "code",
   "execution_count": null,
   "id": "6be35e51",
   "metadata": {},
   "outputs": [],
   "source": []
  }
 ],
 "metadata": {
  "kernelspec": {
   "display_name": "Python 3",
   "language": "python",
   "name": "python3"
  },
  "language_info": {
   "codemirror_mode": {
    "name": "ipython",
    "version": 3
   },
   "file_extension": ".py",
   "mimetype": "text/x-python",
   "name": "python",
   "nbconvert_exporter": "python",
   "pygments_lexer": "ipython3",
   "version": "3.8.8"
  }
 },
 "nbformat": 4,
 "nbformat_minor": 5
}
